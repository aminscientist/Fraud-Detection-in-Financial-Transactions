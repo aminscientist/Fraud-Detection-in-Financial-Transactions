{
 "cells": [
  {
   "cell_type": "code",
   "execution_count": 1,
   "id": "initial_id",
   "metadata": {
    "collapsed": true,
    "ExecuteTime": {
     "end_time": "2023-11-29T10:28:54.545462600Z",
     "start_time": "2023-11-29T10:28:51.705763100Z"
    }
   },
   "outputs": [],
   "source": [
    "import requests\n",
    "import pandas as pd"
   ]
  },
  {
   "cell_type": "code",
   "execution_count": 2,
   "outputs": [],
   "source": [
    "# Define API URL\n",
    "customers_api_url = 'http://localhost:5000/api/transactions'\n",
    "\n",
    "# Function to fetch data from API\n",
    "def fetch_data(api_url):\n",
    "    try:\n",
    "        response = requests.get(api_url)\n",
    "        response.raise_for_status()  # Raise an error for bad responses (4xx and 5xx)\n",
    "        return response.json()\n",
    "    except requests.exceptions.RequestException as e:\n",
    "        print(f\"Error fetching data from {api_url}: {e}\")\n",
    "        return None"
   ],
   "metadata": {
    "collapsed": false,
    "ExecuteTime": {
     "end_time": "2023-11-29T10:28:54.557711Z",
     "start_time": "2023-11-29T10:28:54.542088600Z"
    }
   },
   "id": "dec1281abcad09ba"
  },
  {
   "cell_type": "code",
   "execution_count": 6,
   "outputs": [
    {
     "name": "stdout",
     "output_type": "stream",
     "text": [
      "           amount currency customer_id            date_time location  \\\n",
      "0      394.588645      GBP        C080  2021-11-20T02:44:25    City3   \n",
      "1      884.859516      USD        C090  2022-02-12T19:17:10    City8   \n",
      "2     2590.026435      USD        C012  2022-02-25T12:25:52    City8   \n",
      "3     5300.280831      USD        C037  2020-07-31T05:22:15    City9   \n",
      "4     7266.649956      USD        C020  2020-06-05T06:18:01    City5   \n",
      "...           ...      ...         ...                  ...      ...   \n",
      "1015   231.126311      EUR        C043  2022-01-01T17:13:46   City11   \n",
      "1016   799.246526      GBP        C043  2022-01-01T10:18:02   City11   \n",
      "1017   613.166159      USD        C043  2022-01-01T07:02:26   City18   \n",
      "1018   797.017850      EUR        C043  2022-01-01T11:13:24   City20   \n",
      "1019   570.572702      GBP        C043  2022-01-01T14:12:49   City15   \n",
      "\n",
      "     merchant_details transaction_id transaction_type  \n",
      "0          Merchant18         T00000       withdrawal  \n",
      "1          Merchant13         T00001       withdrawal  \n",
      "2           Merchant9         T00002       withdrawal  \n",
      "3           Merchant1         T00003         purchase  \n",
      "4          Merchant16         T00004         purchase  \n",
      "...               ...            ...              ...  \n",
      "1015       Merchant12         T89933         purchase  \n",
      "1016        Merchant6         T25943       withdrawal  \n",
      "1017        Merchant5         T33244       withdrawal  \n",
      "1018        Merchant5         T52181       withdrawal  \n",
      "1019        Merchant1         T85284         purchase  \n",
      "\n",
      "[1020 rows x 8 columns]\n"
     ]
    }
   ],
   "source": [
    "# Fetch data from customers API\n",
    "customers_data = fetch_data(customers_api_url)\n",
    "\n",
    "# Convert data to DataFrame\n",
    "if customers_data:\n",
    "    df_customers = pd.DataFrame(customers_data)\n",
    "    #print(\"Customers DataFrame:\")\n",
    "    print(df_customers)\n",
    "else:\n",
    "    print(\"No data fetched from customers API.\")"
   ],
   "metadata": {
    "collapsed": false,
    "ExecuteTime": {
     "end_time": "2023-11-29T10:29:52.496569Z",
     "start_time": "2023-11-29T10:29:48.750805400Z"
    }
   },
   "id": "8c634472c4eacb48"
  },
  {
   "cell_type": "code",
   "execution_count": 10,
   "outputs": [
    {
     "name": "stdout",
     "output_type": "stream",
     "text": [
      "No customers with multiple transactions at the same date and time.\n"
     ]
    }
   ],
   "source": [
    "# Assuming 'date_time' is a column in df_customers DataFrame\n",
    "transactions_count = df_customers.groupby(['customer_id', 'date_time']).size()\n",
    "multiple_transactions = transactions_count[transactions_count > 1]\n",
    "\n",
    "if not multiple_transactions.empty:\n",
    "    print(\"Customers with multiple transactions at the same date and time:\")\n",
    "    print(multiple_transactions)\n",
    "else:\n",
    "    print(\"No customers with multiple transactions at the same date and time.\")"
   ],
   "metadata": {
    "collapsed": false,
    "ExecuteTime": {
     "end_time": "2023-11-29T10:47:03.351955700Z",
     "start_time": "2023-11-29T10:47:02.906947400Z"
    }
   },
   "id": "416c5382ad87bdc8"
  },
  {
   "cell_type": "code",
   "execution_count": null,
   "outputs": [],
   "source": [],
   "metadata": {
    "collapsed": false
   },
   "id": "86eb719218f8186f"
  }
 ],
 "metadata": {
  "kernelspec": {
   "display_name": "Python 3",
   "language": "python",
   "name": "python3"
  },
  "language_info": {
   "codemirror_mode": {
    "name": "ipython",
    "version": 2
   },
   "file_extension": ".py",
   "mimetype": "text/x-python",
   "name": "python",
   "nbconvert_exporter": "python",
   "pygments_lexer": "ipython2",
   "version": "2.7.6"
  }
 },
 "nbformat": 4,
 "nbformat_minor": 5
}
