{
 "cells": [
  {
   "cell_type": "code",
   "execution_count": 1,
   "id": "initial_id",
   "metadata": {
    "collapsed": true,
    "ExecuteTime": {
     "end_time": "2023-12-02T18:47:31.700058300Z",
     "start_time": "2023-12-02T18:47:29.826892100Z"
    }
   },
   "outputs": [],
   "source": [
    "import requests\n",
    "from pyhive import hive\n",
    "from datetime import datetime\n",
    "import pandas as pd"
   ]
  },
  {
   "cell_type": "code",
   "execution_count": 2,
   "outputs": [],
   "source": [
    "# Define API URLs\n",
    "transactions_api_url = 'http://localhost:5000/api/transactions'\n",
    "customers_api_url = 'http://localhost:5000/api/customers'\n",
    "external_data_api_url = 'http://localhost:5000/api/externalData'"
   ],
   "metadata": {
    "collapsed": false,
    "ExecuteTime": {
     "end_time": "2023-12-02T18:47:40.710471300Z",
     "start_time": "2023-12-02T18:47:40.662990800Z"
    }
   },
   "id": "fcf6fa56c83dadc5"
  },
  {
   "cell_type": "code",
   "execution_count": 3,
   "outputs": [],
   "source": [
    "# Function to fetch data from API\n",
    "def fetch_data(api_url):\n",
    "    try:\n",
    "        response = requests.get(api_url)\n",
    "        response.raise_for_status()  # Raise an error for bad responses (4xx and 5xx)\n",
    "        return response.json()\n",
    "    except requests.exceptions.RequestException as e:\n",
    "        print(f\"Error fetching data from {api_url}: {e}\")\n",
    "        return None"
   ],
   "metadata": {
    "collapsed": false,
    "ExecuteTime": {
     "end_time": "2023-12-02T18:47:41.946296300Z",
     "start_time": "2023-12-02T18:47:41.902258100Z"
    }
   },
   "id": "1782ccf6ec44816b"
  },
  {
   "cell_type": "code",
   "execution_count": 4,
   "outputs": [],
   "source": [
    "# Fetch data from transactions API\n",
    "transactions_data = fetch_data(transactions_api_url)\n",
    "\n",
    "# Fetch data from customers API\n",
    "customers_data = fetch_data(customers_api_url)\n",
    "\n",
    "# Fetch data from externalData API\n",
    "external_data = fetch_data(external_data_api_url)"
   ],
   "metadata": {
    "collapsed": false,
    "ExecuteTime": {
     "end_time": "2023-12-02T18:47:48.903713100Z",
     "start_time": "2023-12-02T18:47:42.708163900Z"
    }
   },
   "id": "b41e66fcf4067765"
  },
  {
   "cell_type": "code",
   "execution_count": 5,
   "outputs": [],
   "source": [
    "# Hive connection parameters\n",
    "hive_host = \"localhost\"\n",
    "hive_port = 10000   \n",
    "\n",
    "# Connect to Hive\n",
    "conn = hive.Connection(host=hive_host, port=hive_port, username=\"root\")\n",
    "cursor = conn.cursor()"
   ],
   "metadata": {
    "collapsed": false,
    "ExecuteTime": {
     "end_time": "2023-12-02T18:47:52.858554200Z",
     "start_time": "2023-12-02T18:47:48.907882600Z"
    }
   },
   "id": "1c917f71798efb62"
  },
  {
   "cell_type": "code",
   "execution_count": 6,
   "outputs": [],
   "source": [
    "# Create a database\n",
    "cursor.execute(\"CREATE DATABASE IF NOT EXISTS Transactions\")"
   ],
   "metadata": {
    "collapsed": false,
    "ExecuteTime": {
     "end_time": "2023-12-02T18:47:52.981220400Z",
     "start_time": "2023-12-02T18:47:52.860555100Z"
    }
   },
   "id": "7c833ccab4c3b210"
  },
  {
   "cell_type": "code",
   "execution_count": 7,
   "outputs": [],
   "source": [
    "# Use the database\n",
    "cursor.execute(\"USE Transactions\")"
   ],
   "metadata": {
    "collapsed": false,
    "ExecuteTime": {
     "end_time": "2023-12-02T18:47:53.046757600Z",
     "start_time": "2023-12-02T18:47:52.985450700Z"
    }
   },
   "id": "dbde15e531d27fe7"
  },
  {
   "cell_type": "code",
   "execution_count": 8,
   "outputs": [],
   "source": [
    "# Create a table for transactions\n",
    "cursor.execute(\"\"\"\n",
    "    CREATE TABLE IF NOT EXISTS transactions (\n",
    "      transaction_id STRING,\n",
    "      date_time TIMESTAMP,\n",
    "      amount DOUBLE,\n",
    "      currency STRING,\n",
    "      merchant_details STRING,\n",
    "      customer_id STRING,\n",
    "      transaction_type STRING,\n",
    "      location STRING\n",
    "    )    \n",
    "\n",
    "\"\"\")"
   ],
   "metadata": {
    "collapsed": false,
    "ExecuteTime": {
     "end_time": "2023-12-02T18:47:53.359780100Z",
     "start_time": "2023-12-02T18:47:53.051619800Z"
    }
   },
   "id": "cbf4cae1898c88d7"
  },
  {
   "cell_type": "code",
   "execution_count": null,
   "outputs": [],
   "source": [
    "# Insert data into the Transactions table\n",
    "for transaction in transactions_data:\n",
    "    transaction_id = transaction['transaction_id']\n",
    "    date_time_str = transaction['date_time']\n",
    "    amount = transaction['amount']\n",
    "    currency = transaction['currency']\n",
    "    merchant_details = transaction['merchant_details']\n",
    "    customer_id = transaction['customer_id']\n",
    "    transaction_type = transaction['transaction_type']\n",
    "    location = transaction['location']\n",
    "    \n",
    "    # Convert date_time_str to a datetime object\n",
    "    date_time = datetime.strptime(date_time_str, \"%Y-%m-%dT%H:%M:%S\")\n",
    "\n",
    "\n",
    "    insert_query = f\"\"\"\n",
    "    INSERT INTO transactions\n",
    "    VALUES (\n",
    "      '{transaction_id}',\n",
    "      '{date_time}',\n",
    "       {amount},\n",
    "      '{currency}',\n",
    "      '{merchant_details}',\n",
    "      '{customer_id}',\n",
    "      '{transaction_type}',\n",
    "      '{location}'\n",
    "    )\n",
    "    \"\"\"\n",
    "\n",
    "    cursor.execute(insert_query)"
   ],
   "metadata": {
    "collapsed": false,
    "is_executing": true,
    "ExecuteTime": {
     "start_time": "2023-12-02T18:48:08.538186Z"
    }
   },
   "id": "cb744c9b82cfa032"
  },
  {
   "cell_type": "code",
   "execution_count": null,
   "outputs": [],
   "source": [
    "# Create customers table\n",
    "cursor.execute(\"\"\"\n",
    "    CREATE TABLE IF NOT EXISTS customers (\n",
    "        customer_id STRING,\n",
    "        account_history ARRAY<STRING>,\n",
    "        age INT,\n",
    "        location STRING,\n",
    "        avg_transaction_value DOUBLE\n",
    "    )\n",
    "\"\"\")"
   ],
   "metadata": {
    "collapsed": false,
    "is_executing": true
   },
   "id": "2e942f71d5091c19"
  },
  {
   "cell_type": "code",
   "execution_count": null,
   "outputs": [],
   "source": [
    "# Insert data into customers table\n",
    "for customer in customers_data:\n",
    "    customer_id = customer['customer_id']\n",
    "    account_history = tuple(customer['account_history'])\n",
    "    age = customer['demographics']['age']\n",
    "    location = customer['demographics']['location']\n",
    "    avg_transaction_value = customer['behavioral_patterns']['avg_transaction_value']\n",
    "\n",
    "    insert_query = f\"\"\"\n",
    "    INSERT INTO customers\n",
    "    select \n",
    "        '{customer_id}',\n",
    "        ARRAY{account_history},\n",
    "        {age},\n",
    "        '{location}',\n",
    "        {avg_transaction_value}\n",
    "    \"\"\"\n",
    "\n",
    "    cursor.execute(insert_query)\n",
    "    \n",
    "    #print(insert_query)"
   ],
   "metadata": {
    "collapsed": false,
    "is_executing": true
   },
   "id": "d5a1315c01522729"
  },
  {
   "cell_type": "code",
   "execution_count": null,
   "outputs": [],
   "source": [
    "# create blacklist info table\n",
    "cursor.execute(\"\"\"\n",
    "    CREATE TABLE IF NOT EXISTS blacklist (\n",
    "        merchant_name STRING\n",
    "    )\n",
    "\"\"\")"
   ],
   "metadata": {
    "collapsed": false,
    "is_executing": true
   },
   "id": "439e2947493e086c"
  },
  {
   "cell_type": "code",
   "execution_count": null,
   "outputs": [],
   "source": [
    "# Extract blacklist_info from external_data\n",
    "blacklist_info = external_data.get(\"blacklist_info\", [])\n",
    "\n",
    "# Insert data into the table\n",
    "for merchant_name in blacklist_info:\n",
    "    insert_query = f\"\"\"\n",
    "    INSERT INTO blacklist (merchant_name)\n",
    "    VALUES ('{merchant_name}')\n",
    "    \"\"\"\n",
    "\n",
    "    cursor.execute(insert_query)"
   ],
   "metadata": {
    "collapsed": false,
    "is_executing": true
   },
   "id": "f04d49aee2306ad"
  },
  {
   "cell_type": "code",
   "execution_count": null,
   "outputs": [],
   "source": [
    "# create external info table\n",
    "cursor.execute(\"\"\"\n",
    "    CREATE TABLE IF NOT EXISTS external_info (\n",
    "        customer_id STRING,\n",
    "        fraud_reports INT,\n",
    "        credit_scores FLOAT\n",
    "    )\n",
    "\"\"\")"
   ],
   "metadata": {
    "collapsed": false,
    "is_executing": true
   },
   "id": "ef191cba5c64905"
  },
  {
   "cell_type": "code",
   "execution_count": null,
   "outputs": [],
   "source": [
    "# retrieve the dictionary from the data source\n",
    "credit_scores = external_data.get(\"credit_scores\", {})\n",
    "fraud_reports = external_data.get(\"fraud_reports\", {})\n",
    "\n",
    "# create dataframes from the dictionaries\n",
    "df_credit_scores = pd.DataFrame(credit_scores.items(), columns=['customer_id', 'credit_scores'])\n",
    "df_fraud_reports = pd.DataFrame(fraud_reports.items(), columns=['customer_id', 'fraud_reports'])\n",
    "df_external_info = pd.merge(df_fraud_reports, df_credit_scores, on='customer_id')\n",
    "\n",
    "# insert data into external infos table\n",
    "for index, row in df_external_info.iterrows():\n",
    "    customer_id = row['customer_id']\n",
    "    credit_scores = row['credit_scores']\n",
    "    fraud_reports = row['fraud_reports']\n",
    "\n",
    "    insert_query = f\"\"\"\n",
    "    INSERT INTO transactions.external_info\n",
    "    SELECT \n",
    "      '{customer_id}',\n",
    "       {credit_scores},\n",
    "       {fraud_reports}\n",
    "    \"\"\"\n",
    "    \n",
    "    cursor.execute(insert_query)"
   ],
   "metadata": {
    "collapsed": false,
    "is_executing": true
   },
   "id": "6a94591aadcd24c0"
  },
  {
   "cell_type": "code",
   "execution_count": null,
   "outputs": [],
   "source": [
    "# Commit the changes and close the connection\n",
    "conn.commit()\n",
    "conn.close()"
   ],
   "metadata": {
    "collapsed": false,
    "is_executing": true
   },
   "id": "3dc308eb74feaedc"
  },
  {
   "cell_type": "code",
   "execution_count": null,
   "outputs": [],
   "source": [],
   "metadata": {
    "collapsed": false
   },
   "id": "56763db0fa69dc4c"
  }
 ],
 "metadata": {
  "kernelspec": {
   "display_name": "Python 3",
   "language": "python",
   "name": "python3"
  },
  "language_info": {
   "codemirror_mode": {
    "name": "ipython",
    "version": 2
   },
   "file_extension": ".py",
   "mimetype": "text/x-python",
   "name": "python",
   "nbconvert_exporter": "python",
   "pygments_lexer": "ipython2",
   "version": "2.7.6"
  }
 },
 "nbformat": 4,
 "nbformat_minor": 5
}
