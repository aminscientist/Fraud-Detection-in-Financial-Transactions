{
 "cells": [
  {
   "cell_type": "code",
   "execution_count": 11,
   "id": "initial_id",
   "metadata": {
    "collapsed": true,
    "ExecuteTime": {
     "end_time": "2023-12-04T11:05:11.165793500Z",
     "start_time": "2023-12-04T11:05:10.894700100Z"
    }
   },
   "outputs": [],
   "source": [
    "import requests\n",
    "from pyhive import hive\n",
    "from datetime import datetime\n",
    "import pandas as pd"
   ]
  },
  {
   "cell_type": "code",
   "execution_count": 12,
   "outputs": [],
   "source": [
    "# Define API URLs\n",
    "transactions_api_url = 'http://localhost:5000/api/transactions'\n",
    "customers_api_url = 'http://localhost:5000/api/customers'\n",
    "external_data_api_url = 'http://localhost:5000/api/externalData'"
   ],
   "metadata": {
    "collapsed": false,
    "ExecuteTime": {
     "end_time": "2023-12-04T11:05:12.409157900Z",
     "start_time": "2023-12-04T11:05:12.334315100Z"
    }
   },
   "id": "fcf6fa56c83dadc5"
  },
  {
   "cell_type": "code",
   "execution_count": 13,
   "outputs": [],
   "source": [
    "# Function to fetch data from API\n",
    "def fetch_data(api_url):\n",
    "    try:\n",
    "        response = requests.get(api_url)\n",
    "        response.raise_for_status()  # Raise an error for bad responses (4xx and 5xx)\n",
    "        return response.json()\n",
    "    except requests.exceptions.RequestException as e:\n",
    "        print(f\"Error fetching data from {api_url}: {e}\")\n",
    "        return None"
   ],
   "metadata": {
    "collapsed": false,
    "ExecuteTime": {
     "end_time": "2023-12-04T11:05:13.205094400Z",
     "start_time": "2023-12-04T11:05:13.139373700Z"
    }
   },
   "id": "1782ccf6ec44816b"
  },
  {
   "cell_type": "code",
   "execution_count": 14,
   "outputs": [],
   "source": [
    "# Fetch data from transactions API\n",
    "transactions_data = fetch_data(transactions_api_url)\n",
    "\n",
    "# Fetch data from customers API\n",
    "customers_data = fetch_data(customers_api_url)\n",
    "\n",
    "# Fetch data from externalData API\n",
    "external_data = fetch_data(external_data_api_url)"
   ],
   "metadata": {
    "collapsed": false,
    "ExecuteTime": {
     "end_time": "2023-12-04T11:05:20.635820500Z",
     "start_time": "2023-12-04T11:05:14.210036300Z"
    }
   },
   "id": "b41e66fcf4067765"
  },
  {
   "cell_type": "code",
   "execution_count": 15,
   "outputs": [],
   "source": [
    "# Hive connection parameters\n",
    "hive_host = \"localhost\"\n",
    "hive_port = 10000   \n",
    "\n",
    "# Connect to Hive\n",
    "conn = hive.Connection(host=hive_host, port=hive_port, username=\"root\")\n",
    "cursor = conn.cursor()"
   ],
   "metadata": {
    "collapsed": false,
    "ExecuteTime": {
     "end_time": "2023-12-04T11:05:23.093567400Z",
     "start_time": "2023-12-04T11:05:21.369967Z"
    }
   },
   "id": "1c917f71798efb62"
  },
  {
   "cell_type": "code",
   "execution_count": 16,
   "outputs": [],
   "source": [
    "# Create a database\n",
    "cursor.execute(\"CREATE DATABASE IF NOT EXISTS Transactions\")"
   ],
   "metadata": {
    "collapsed": false,
    "ExecuteTime": {
     "end_time": "2023-12-04T11:05:23.168616100Z",
     "start_time": "2023-12-04T11:05:23.093567400Z"
    }
   },
   "id": "7c833ccab4c3b210"
  },
  {
   "cell_type": "code",
   "execution_count": 17,
   "outputs": [],
   "source": [
    "# Use the database\n",
    "cursor.execute(\"USE Transactions\")"
   ],
   "metadata": {
    "collapsed": false,
    "ExecuteTime": {
     "end_time": "2023-12-04T11:05:23.923595400Z",
     "start_time": "2023-12-04T11:05:23.863562400Z"
    }
   },
   "id": "dbde15e531d27fe7"
  },
  {
   "cell_type": "code",
   "execution_count": null,
   "outputs": [],
   "source": [
    "# Create a table for transactions with partitioning\n",
    "cursor.execute(\"\"\"\n",
    "    CREATE TABLE IF NOT EXISTS transactions (\n",
    "      transaction_id STRING,\n",
    "      date_time TIMESTAMP,\n",
    "      amount DOUBLE,\n",
    "      currency STRING,\n",
    "      merchant_details STRING,\n",
    "      customer_id STRING,\n",
    "      transaction_type STRING,\n",
    "      location STRING\n",
    "    )\n",
    "    PARTITIONED BY (date_year INT, date_month INT)\n",
    "\"\"\")"
   ],
   "metadata": {
    "collapsed": false,
    "ExecuteTime": {
     "end_time": "2023-12-04T11:03:30.727033400Z",
     "start_time": "2023-12-04T11:03:30.722164100Z"
    }
   },
   "id": "cbf4cae1898c88d7"
  },
  {
   "cell_type": "code",
   "execution_count": 9,
   "outputs": [
    {
     "ename": "KeyboardInterrupt",
     "evalue": "",
     "output_type": "error",
     "traceback": [
      "\u001B[1;31m---------------------------------------------------------------------------\u001B[0m",
      "\u001B[1;31mKeyboardInterrupt\u001B[0m                         Traceback (most recent call last)",
      "Cell \u001B[1;32mIn[9], line 33\u001B[0m\n\u001B[0;32m     18\u001B[0m \u001B[38;5;66;03m#date_day = date_time.day\u001B[39;00m\n\u001B[0;32m     20\u001B[0m insert_query \u001B[38;5;241m=\u001B[39m \u001B[38;5;124mf\u001B[39m\u001B[38;5;124m\"\"\"\u001B[39m\n\u001B[0;32m     21\u001B[0m \u001B[38;5;124mINSERT INTO transactions PARTITION (date_year=\u001B[39m\u001B[38;5;132;01m{\u001B[39;00mdate_year\u001B[38;5;132;01m}\u001B[39;00m\u001B[38;5;124m, date_month=\u001B[39m\u001B[38;5;132;01m{\u001B[39;00mdate_month\u001B[38;5;132;01m}\u001B[39;00m\u001B[38;5;124m)\u001B[39m\n\u001B[0;32m     22\u001B[0m \u001B[38;5;124mVALUES (\u001B[39m\n\u001B[1;32m   (...)\u001B[0m\n\u001B[0;32m     31\u001B[0m \u001B[38;5;124m)\u001B[39m\n\u001B[0;32m     32\u001B[0m \u001B[38;5;124m\u001B[39m\u001B[38;5;124m\"\"\"\u001B[39m\n\u001B[1;32m---> 33\u001B[0m \u001B[43mcursor\u001B[49m\u001B[38;5;241;43m.\u001B[39;49m\u001B[43mexecute\u001B[49m\u001B[43m(\u001B[49m\u001B[43minsert_query\u001B[49m\u001B[43m)\u001B[49m\n",
      "File \u001B[1;32m~\\Desktop\\Fraud-Detection-in-Financial-Transactions\\lib\\site-packages\\pyhive\\hive.py:480\u001B[0m, in \u001B[0;36mCursor.execute\u001B[1;34m(self, operation, parameters, **kwargs)\u001B[0m\n\u001B[0;32m    477\u001B[0m req \u001B[38;5;241m=\u001B[39m ttypes\u001B[38;5;241m.\u001B[39mTExecuteStatementReq(\u001B[38;5;28mself\u001B[39m\u001B[38;5;241m.\u001B[39m_connection\u001B[38;5;241m.\u001B[39msessionHandle,\n\u001B[0;32m    478\u001B[0m                                   sql, runAsync\u001B[38;5;241m=\u001B[39masync_)\n\u001B[0;32m    479\u001B[0m _logger\u001B[38;5;241m.\u001B[39mdebug(req)\n\u001B[1;32m--> 480\u001B[0m response \u001B[38;5;241m=\u001B[39m \u001B[38;5;28;43mself\u001B[39;49m\u001B[38;5;241;43m.\u001B[39;49m\u001B[43m_connection\u001B[49m\u001B[38;5;241;43m.\u001B[39;49m\u001B[43mclient\u001B[49m\u001B[38;5;241;43m.\u001B[39;49m\u001B[43mExecuteStatement\u001B[49m\u001B[43m(\u001B[49m\u001B[43mreq\u001B[49m\u001B[43m)\u001B[49m\n\u001B[0;32m    481\u001B[0m _check_status(response)\n\u001B[0;32m    482\u001B[0m \u001B[38;5;28mself\u001B[39m\u001B[38;5;241m.\u001B[39m_operationHandle \u001B[38;5;241m=\u001B[39m response\u001B[38;5;241m.\u001B[39moperationHandle\n",
      "File \u001B[1;32m~\\Desktop\\Fraud-Detection-in-Financial-Transactions\\lib\\site-packages\\TCLIService\\TCLIService.py:280\u001B[0m, in \u001B[0;36mClient.ExecuteStatement\u001B[1;34m(self, req)\u001B[0m\n\u001B[0;32m    275\u001B[0m \u001B[38;5;250m\u001B[39m\u001B[38;5;124;03m\"\"\"\u001B[39;00m\n\u001B[0;32m    276\u001B[0m \u001B[38;5;124;03mParameters:\u001B[39;00m\n\u001B[0;32m    277\u001B[0m \u001B[38;5;124;03m - req\u001B[39;00m\n\u001B[0;32m    278\u001B[0m \u001B[38;5;124;03m\"\"\"\u001B[39;00m\n\u001B[0;32m    279\u001B[0m \u001B[38;5;28mself\u001B[39m\u001B[38;5;241m.\u001B[39msend_ExecuteStatement(req)\n\u001B[1;32m--> 280\u001B[0m \u001B[38;5;28;01mreturn\u001B[39;00m \u001B[38;5;28;43mself\u001B[39;49m\u001B[38;5;241;43m.\u001B[39;49m\u001B[43mrecv_ExecuteStatement\u001B[49m\u001B[43m(\u001B[49m\u001B[43m)\u001B[49m\n",
      "File \u001B[1;32m~\\Desktop\\Fraud-Detection-in-Financial-Transactions\\lib\\site-packages\\TCLIService\\TCLIService.py:292\u001B[0m, in \u001B[0;36mClient.recv_ExecuteStatement\u001B[1;34m(self)\u001B[0m\n\u001B[0;32m    290\u001B[0m \u001B[38;5;28;01mdef\u001B[39;00m \u001B[38;5;21mrecv_ExecuteStatement\u001B[39m(\u001B[38;5;28mself\u001B[39m):\n\u001B[0;32m    291\u001B[0m     iprot \u001B[38;5;241m=\u001B[39m \u001B[38;5;28mself\u001B[39m\u001B[38;5;241m.\u001B[39m_iprot\n\u001B[1;32m--> 292\u001B[0m     (fname, mtype, rseqid) \u001B[38;5;241m=\u001B[39m \u001B[43miprot\u001B[49m\u001B[38;5;241;43m.\u001B[39;49m\u001B[43mreadMessageBegin\u001B[49m\u001B[43m(\u001B[49m\u001B[43m)\u001B[49m\n\u001B[0;32m    293\u001B[0m     \u001B[38;5;28;01mif\u001B[39;00m mtype \u001B[38;5;241m==\u001B[39m TMessageType\u001B[38;5;241m.\u001B[39mEXCEPTION:\n\u001B[0;32m    294\u001B[0m         x \u001B[38;5;241m=\u001B[39m TApplicationException()\n",
      "File \u001B[1;32m~\\Desktop\\Fraud-Detection-in-Financial-Transactions\\lib\\site-packages\\thrift\\protocol\\TBinaryProtocol.py:134\u001B[0m, in \u001B[0;36mTBinaryProtocol.readMessageBegin\u001B[1;34m(self)\u001B[0m\n\u001B[0;32m    133\u001B[0m \u001B[38;5;28;01mdef\u001B[39;00m \u001B[38;5;21mreadMessageBegin\u001B[39m(\u001B[38;5;28mself\u001B[39m):\n\u001B[1;32m--> 134\u001B[0m     sz \u001B[38;5;241m=\u001B[39m \u001B[38;5;28;43mself\u001B[39;49m\u001B[38;5;241;43m.\u001B[39;49m\u001B[43mreadI32\u001B[49m\u001B[43m(\u001B[49m\u001B[43m)\u001B[49m\n\u001B[0;32m    135\u001B[0m     \u001B[38;5;28;01mif\u001B[39;00m sz \u001B[38;5;241m<\u001B[39m \u001B[38;5;241m0\u001B[39m:\n\u001B[0;32m    136\u001B[0m         version \u001B[38;5;241m=\u001B[39m sz \u001B[38;5;241m&\u001B[39m TBinaryProtocol\u001B[38;5;241m.\u001B[39mVERSION_MASK\n",
      "File \u001B[1;32m~\\Desktop\\Fraud-Detection-in-Financial-Transactions\\lib\\site-packages\\thrift\\protocol\\TBinaryProtocol.py:217\u001B[0m, in \u001B[0;36mTBinaryProtocol.readI32\u001B[1;34m(self)\u001B[0m\n\u001B[0;32m    216\u001B[0m \u001B[38;5;28;01mdef\u001B[39;00m \u001B[38;5;21mreadI32\u001B[39m(\u001B[38;5;28mself\u001B[39m):\n\u001B[1;32m--> 217\u001B[0m     buff \u001B[38;5;241m=\u001B[39m \u001B[38;5;28;43mself\u001B[39;49m\u001B[38;5;241;43m.\u001B[39;49m\u001B[43mtrans\u001B[49m\u001B[38;5;241;43m.\u001B[39;49m\u001B[43mreadAll\u001B[49m\u001B[43m(\u001B[49m\u001B[38;5;241;43m4\u001B[39;49m\u001B[43m)\u001B[49m\n\u001B[0;32m    218\u001B[0m     val, \u001B[38;5;241m=\u001B[39m unpack(\u001B[38;5;124m'\u001B[39m\u001B[38;5;124m!i\u001B[39m\u001B[38;5;124m'\u001B[39m, buff)\n\u001B[0;32m    219\u001B[0m     \u001B[38;5;28;01mreturn\u001B[39;00m val\n",
      "File \u001B[1;32m~\\Desktop\\Fraud-Detection-in-Financial-Transactions\\lib\\site-packages\\thrift\\transport\\TTransport.py:62\u001B[0m, in \u001B[0;36mTTransportBase.readAll\u001B[1;34m(self, sz)\u001B[0m\n\u001B[0;32m     60\u001B[0m have \u001B[38;5;241m=\u001B[39m \u001B[38;5;241m0\u001B[39m\n\u001B[0;32m     61\u001B[0m \u001B[38;5;28;01mwhile\u001B[39;00m (have \u001B[38;5;241m<\u001B[39m sz):\n\u001B[1;32m---> 62\u001B[0m     chunk \u001B[38;5;241m=\u001B[39m \u001B[38;5;28;43mself\u001B[39;49m\u001B[38;5;241;43m.\u001B[39;49m\u001B[43mread\u001B[49m\u001B[43m(\u001B[49m\u001B[43msz\u001B[49m\u001B[43m \u001B[49m\u001B[38;5;241;43m-\u001B[39;49m\u001B[43m \u001B[49m\u001B[43mhave\u001B[49m\u001B[43m)\u001B[49m\n\u001B[0;32m     63\u001B[0m     chunkLen \u001B[38;5;241m=\u001B[39m \u001B[38;5;28mlen\u001B[39m(chunk)\n\u001B[0;32m     64\u001B[0m     have \u001B[38;5;241m+\u001B[39m\u001B[38;5;241m=\u001B[39m chunkLen\n",
      "File \u001B[1;32m~\\Desktop\\Fraud-Detection-in-Financial-Transactions\\lib\\site-packages\\thrift_sasl\\__init__.py:173\u001B[0m, in \u001B[0;36mTSaslClientTransport.read\u001B[1;34m(self, sz)\u001B[0m\n\u001B[0;32m    170\u001B[0m \u001B[38;5;28;01mif\u001B[39;00m \u001B[38;5;28mlen\u001B[39m(ret) \u001B[38;5;241m==\u001B[39m sz:\n\u001B[0;32m    171\u001B[0m   \u001B[38;5;28;01mreturn\u001B[39;00m ret\n\u001B[1;32m--> 173\u001B[0m \u001B[38;5;28;43mself\u001B[39;49m\u001B[38;5;241;43m.\u001B[39;49m\u001B[43m_read_frame\u001B[49m\u001B[43m(\u001B[49m\u001B[43m)\u001B[49m\n\u001B[0;32m    174\u001B[0m \u001B[38;5;28;01mreturn\u001B[39;00m ret \u001B[38;5;241m+\u001B[39m \u001B[38;5;28mself\u001B[39m\u001B[38;5;241m.\u001B[39m__rbuf\u001B[38;5;241m.\u001B[39mread(sz \u001B[38;5;241m-\u001B[39m \u001B[38;5;28mlen\u001B[39m(ret))\n",
      "File \u001B[1;32m~\\Desktop\\Fraud-Detection-in-Financial-Transactions\\lib\\site-packages\\thrift_sasl\\__init__.py:177\u001B[0m, in \u001B[0;36mTSaslClientTransport._read_frame\u001B[1;34m(self)\u001B[0m\n\u001B[0;32m    176\u001B[0m \u001B[38;5;28;01mdef\u001B[39;00m \u001B[38;5;21m_read_frame\u001B[39m(\u001B[38;5;28mself\u001B[39m):\n\u001B[1;32m--> 177\u001B[0m   header \u001B[38;5;241m=\u001B[39m \u001B[38;5;28;43mself\u001B[39;49m\u001B[38;5;241;43m.\u001B[39;49m\u001B[43m_trans_read_all\u001B[49m\u001B[43m(\u001B[49m\u001B[38;5;241;43m4\u001B[39;49m\u001B[43m)\u001B[49m\n\u001B[0;32m    178\u001B[0m   (length,) \u001B[38;5;241m=\u001B[39m struct\u001B[38;5;241m.\u001B[39munpack(\u001B[38;5;124m\"\u001B[39m\u001B[38;5;124m>I\u001B[39m\u001B[38;5;124m\"\u001B[39m, header)\n\u001B[0;32m    179\u001B[0m   \u001B[38;5;28;01mif\u001B[39;00m \u001B[38;5;28mself\u001B[39m\u001B[38;5;241m.\u001B[39mencode:\n\u001B[0;32m    180\u001B[0m     \u001B[38;5;66;03m# If the frames are encoded (i.e. you're using a QOP of auth-int or\u001B[39;00m\n\u001B[0;32m    181\u001B[0m     \u001B[38;5;66;03m# auth-conf), then make sure to include the header in the bytes you send to\u001B[39;00m\n\u001B[0;32m    182\u001B[0m     \u001B[38;5;66;03m# sasl.decode()\u001B[39;00m\n",
      "File \u001B[1;32m~\\Desktop\\Fraud-Detection-in-Financial-Transactions\\lib\\site-packages\\thrift_sasl\\__init__.py:210\u001B[0m, in \u001B[0;36mTSaslClientTransport._trans_read_all\u001B[1;34m(self, sz)\u001B[0m\n\u001B[0;32m    206\u001B[0m         \u001B[38;5;28;01mraise\u001B[39;00m TTransportException(\u001B[38;5;28mtype\u001B[39m\u001B[38;5;241m=\u001B[39mTTransportException\u001B[38;5;241m.\u001B[39mEND_OF_FILE,\n\u001B[0;32m    207\u001B[0m                                   message\u001B[38;5;241m=\u001B[39m\u001B[38;5;124m\"\u001B[39m\u001B[38;5;124mEnd of file reading from transport\u001B[39m\u001B[38;5;124m\"\u001B[39m)\n\u001B[0;32m    209\u001B[0m     \u001B[38;5;28;01mreturn\u001B[39;00m buff\n\u001B[1;32m--> 210\u001B[0m \u001B[38;5;28;01mreturn\u001B[39;00m \u001B[43mread_all\u001B[49m\u001B[43m(\u001B[49m\u001B[43msz\u001B[49m\u001B[43m)\u001B[49m\n",
      "File \u001B[1;32m~\\Desktop\\Fraud-Detection-in-Financial-Transactions\\lib\\site-packages\\thrift\\transport\\TTransport.py:62\u001B[0m, in \u001B[0;36mTTransportBase.readAll\u001B[1;34m(self, sz)\u001B[0m\n\u001B[0;32m     60\u001B[0m have \u001B[38;5;241m=\u001B[39m \u001B[38;5;241m0\u001B[39m\n\u001B[0;32m     61\u001B[0m \u001B[38;5;28;01mwhile\u001B[39;00m (have \u001B[38;5;241m<\u001B[39m sz):\n\u001B[1;32m---> 62\u001B[0m     chunk \u001B[38;5;241m=\u001B[39m \u001B[38;5;28;43mself\u001B[39;49m\u001B[38;5;241;43m.\u001B[39;49m\u001B[43mread\u001B[49m\u001B[43m(\u001B[49m\u001B[43msz\u001B[49m\u001B[43m \u001B[49m\u001B[38;5;241;43m-\u001B[39;49m\u001B[43m \u001B[49m\u001B[43mhave\u001B[49m\u001B[43m)\u001B[49m\n\u001B[0;32m     63\u001B[0m     chunkLen \u001B[38;5;241m=\u001B[39m \u001B[38;5;28mlen\u001B[39m(chunk)\n\u001B[0;32m     64\u001B[0m     have \u001B[38;5;241m+\u001B[39m\u001B[38;5;241m=\u001B[39m chunkLen\n",
      "File \u001B[1;32m~\\Desktop\\Fraud-Detection-in-Financial-Transactions\\lib\\site-packages\\thrift\\transport\\TSocket.py:150\u001B[0m, in \u001B[0;36mTSocket.read\u001B[1;34m(self, sz)\u001B[0m\n\u001B[0;32m    148\u001B[0m \u001B[38;5;28;01mdef\u001B[39;00m \u001B[38;5;21mread\u001B[39m(\u001B[38;5;28mself\u001B[39m, sz):\n\u001B[0;32m    149\u001B[0m     \u001B[38;5;28;01mtry\u001B[39;00m:\n\u001B[1;32m--> 150\u001B[0m         buff \u001B[38;5;241m=\u001B[39m \u001B[38;5;28;43mself\u001B[39;49m\u001B[38;5;241;43m.\u001B[39;49m\u001B[43mhandle\u001B[49m\u001B[38;5;241;43m.\u001B[39;49m\u001B[43mrecv\u001B[49m\u001B[43m(\u001B[49m\u001B[43msz\u001B[49m\u001B[43m)\u001B[49m\n\u001B[0;32m    151\u001B[0m     \u001B[38;5;28;01mexcept\u001B[39;00m socket\u001B[38;5;241m.\u001B[39merror \u001B[38;5;28;01mas\u001B[39;00m e:\n\u001B[0;32m    152\u001B[0m         \u001B[38;5;28;01mif\u001B[39;00m (e\u001B[38;5;241m.\u001B[39margs[\u001B[38;5;241m0\u001B[39m] \u001B[38;5;241m==\u001B[39m errno\u001B[38;5;241m.\u001B[39mECONNRESET \u001B[38;5;129;01mand\u001B[39;00m\n\u001B[0;32m    153\u001B[0m                 (sys\u001B[38;5;241m.\u001B[39mplatform \u001B[38;5;241m==\u001B[39m \u001B[38;5;124m'\u001B[39m\u001B[38;5;124mdarwin\u001B[39m\u001B[38;5;124m'\u001B[39m \u001B[38;5;129;01mor\u001B[39;00m sys\u001B[38;5;241m.\u001B[39mplatform\u001B[38;5;241m.\u001B[39mstartswith(\u001B[38;5;124m'\u001B[39m\u001B[38;5;124mfreebsd\u001B[39m\u001B[38;5;124m'\u001B[39m))):\n\u001B[0;32m    154\u001B[0m             \u001B[38;5;66;03m# freebsd and Mach don't follow POSIX semantic of recv\u001B[39;00m\n\u001B[0;32m    155\u001B[0m             \u001B[38;5;66;03m# and fail with ECONNRESET if peer performed shutdown.\u001B[39;00m\n\u001B[0;32m    156\u001B[0m             \u001B[38;5;66;03m# See corresponding comment and code in TSocket::read()\u001B[39;00m\n\u001B[0;32m    157\u001B[0m             \u001B[38;5;66;03m# in lib/cpp/src/transport/TSocket.cpp.\u001B[39;00m\n",
      "\u001B[1;31mKeyboardInterrupt\u001B[0m: "
     ]
    }
   ],
   "source": [
    "# Insert data into the Transactions table\n",
    "for transaction in transactions_data:\n",
    "    transaction_id = transaction['transaction_id']\n",
    "    date_time_str = transaction['date_time']\n",
    "    amount = transaction['amount']\n",
    "    currency = transaction['currency']\n",
    "    merchant_details = transaction['merchant_details']\n",
    "    customer_id = transaction['customer_id']\n",
    "    transaction_type = transaction['transaction_type']\n",
    "    location = transaction['location']\n",
    "    \n",
    "    # Convert date_time_str to a datetime object\n",
    "    date_time = datetime.strptime(date_time_str, \"%Y-%m-%dT%H:%M:%S\")\n",
    "    \n",
    "    # Extract year, month, and day from the date_time\n",
    "    date_year = date_time.year\n",
    "    date_month = date_time.month\n",
    "    #date_day = date_time.day\n",
    "\n",
    "    insert_query = f\"\"\"\n",
    "    INSERT INTO transactions PARTITION (date_year={date_year}, date_month={date_month})\n",
    "    VALUES (\n",
    "      '{transaction_id}',\n",
    "      '{date_time}',\n",
    "      {amount},\n",
    "      '{currency}',\n",
    "      '{merchant_details}',\n",
    "      '{customer_id}',\n",
    "      '{transaction_type}',\n",
    "      '{location}'\n",
    "    )\n",
    "    \"\"\"\n",
    "    cursor.execute(insert_query)"
   ],
   "metadata": {
    "collapsed": false,
    "ExecuteTime": {
     "end_time": "2023-12-04T11:03:30.695788300Z",
     "start_time": "2023-12-04T10:58:12.471122200Z"
    }
   },
   "id": "cb744c9b82cfa032"
  },
  {
   "cell_type": "code",
   "execution_count": 22,
   "outputs": [],
   "source": [
    "# Create customers table\n",
    "cursor.execute(\"\"\"\n",
    "    CREATE TABLE IF NOT EXISTS customers (\n",
    "        customer_id STRING,\n",
    "        account_history ARRAY<STRING>,\n",
    "        age INT,\n",
    "        avg_transaction_value DOUBLE\n",
    "    )\n",
    "    PARTITIONED BY (location STRING)\n",
    "\"\"\")"
   ],
   "metadata": {
    "collapsed": false,
    "ExecuteTime": {
     "end_time": "2023-12-04T11:30:04.903758100Z",
     "start_time": "2023-12-04T11:30:04.099911500Z"
    }
   },
   "id": "2e942f71d5091c19"
  },
  {
   "cell_type": "code",
   "execution_count": null,
   "outputs": [],
   "source": [
    "# Insert data into customers table\n",
    "for customer in customers_data:\n",
    "    customer_id = customer['customer_id']\n",
    "    account_history = tuple(customer['account_history'])\n",
    "    age = customer['demographics']['age']\n",
    "    location = customer['demographics']['location']\n",
    "    avg_transaction_value = customer['behavioral_patterns']['avg_transaction_value']\n",
    "\n",
    "    insert_query = f\"\"\"\n",
    "    INSERT INTO customers PARTITION (location='{location}')\n",
    "    select \n",
    "        '{customer_id}',\n",
    "        ARRAY{account_history},\n",
    "        {age},\n",
    "        {avg_transaction_value}\n",
    "    \"\"\"\n",
    "\n",
    "    cursor.execute(insert_query)"
   ],
   "metadata": {
    "collapsed": false,
    "is_executing": true,
    "ExecuteTime": {
     "start_time": "2023-12-04T11:30:06.245655Z"
    }
   },
   "id": "d5a1315c01522729"
  },
  {
   "cell_type": "code",
   "execution_count": null,
   "outputs": [],
   "source": [
    "# create blacklist info table\n",
    "cursor.execute(\"\"\"\n",
    "    CREATE TABLE IF NOT EXISTS blacklist (\n",
    "        merchant_name STRING\n",
    "    )\n",
    "\"\"\")"
   ],
   "metadata": {
    "collapsed": false,
    "is_executing": true
   },
   "id": "439e2947493e086c"
  },
  {
   "cell_type": "code",
   "execution_count": null,
   "outputs": [],
   "source": [
    "# Extract blacklist_info from external_data\n",
    "blacklist_info = external_data.get(\"blacklist_info\", [])\n",
    "\n",
    "# Insert data into the table\n",
    "for merchant_name in blacklist_info:\n",
    "    insert_query = f\"\"\"\n",
    "    INSERT INTO blacklist (merchant_name)\n",
    "    VALUES ('{merchant_name}')\n",
    "    \"\"\"\n",
    "\n",
    "    cursor.execute(insert_query)"
   ],
   "metadata": {
    "collapsed": false,
    "is_executing": true
   },
   "id": "f04d49aee2306ad"
  },
  {
   "cell_type": "code",
   "execution_count": null,
   "outputs": [],
   "source": [
    "# create external info table\n",
    "cursor.execute(\"\"\"\n",
    "    CREATE TABLE IF NOT EXISTS external_info (\n",
    "        customer_id STRING,\n",
    "        fraud_reports INT,\n",
    "        credit_scores FLOAT\n",
    "    )\n",
    "\"\"\")"
   ],
   "metadata": {
    "collapsed": false,
    "is_executing": true
   },
   "id": "ef191cba5c64905"
  },
  {
   "cell_type": "code",
   "execution_count": null,
   "outputs": [],
   "source": [
    "# retrieve the dictionary from the data source\n",
    "credit_scores = external_data.get(\"credit_scores\", {})\n",
    "fraud_reports = external_data.get(\"fraud_reports\", {})\n",
    "\n",
    "# create dataframes from the dictionaries\n",
    "df_credit_scores = pd.DataFrame(credit_scores.items(), columns=['customer_id', 'credit_scores'])\n",
    "df_fraud_reports = pd.DataFrame(fraud_reports.items(), columns=['customer_id', 'fraud_reports'])\n",
    "df_external_info = pd.merge(df_fraud_reports, df_credit_scores, on='customer_id')\n",
    "\n",
    "# insert data into external infos table\n",
    "for index, row in df_external_info.iterrows():\n",
    "    customer_id = row['customer_id']\n",
    "    credit_scores = row['credit_scores']\n",
    "    fraud_reports = row['fraud_reports']\n",
    "\n",
    "    insert_query = f\"\"\"\n",
    "    INSERT INTO transactions.external_info\n",
    "    SELECT \n",
    "      '{customer_id}',\n",
    "       {credit_scores},\n",
    "       {fraud_reports}\n",
    "    \"\"\"\n",
    "    \n",
    "    cursor.execute(insert_query)"
   ],
   "metadata": {
    "collapsed": false,
    "is_executing": true
   },
   "id": "6a94591aadcd24c0"
  },
  {
   "cell_type": "code",
   "execution_count": null,
   "outputs": [],
   "source": [
    "# Commit the changes and close the connection\n",
    "conn.commit()\n",
    "conn.close()"
   ],
   "metadata": {
    "collapsed": false,
    "is_executing": true
   },
   "id": "3dc308eb74feaedc"
  },
  {
   "cell_type": "code",
   "execution_count": null,
   "outputs": [],
   "source": [],
   "metadata": {
    "collapsed": false
   },
   "id": "56763db0fa69dc4c"
  }
 ],
 "metadata": {
  "kernelspec": {
   "display_name": "Python 3",
   "language": "python",
   "name": "python3"
  },
  "language_info": {
   "codemirror_mode": {
    "name": "ipython",
    "version": 2
   },
   "file_extension": ".py",
   "mimetype": "text/x-python",
   "name": "python",
   "nbconvert_exporter": "python",
   "pygments_lexer": "ipython2",
   "version": "2.7.6"
  }
 },
 "nbformat": 4,
 "nbformat_minor": 5
}
